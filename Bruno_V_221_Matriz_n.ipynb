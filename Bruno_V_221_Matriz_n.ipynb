{
  "nbformat": 4,
  "nbformat_minor": 0,
  "metadata": {
    "colab": {
      "name": "Bruno V. - 221_Matriz_n.ipynb",
      "provenance": [],
      "collapsed_sections": [],
      "include_colab_link": true
    },
    "kernelspec": {
      "name": "python3",
      "display_name": "Python 3"
    }
  },
  "cells": [
    {
      "cell_type": "markdown",
      "metadata": {
        "id": "view-in-github",
        "colab_type": "text"
      },
      "source": [
        "<a href=\"https://colab.research.google.com/github/Cyber-Root0/python-Matriz/blob/main/Bruno_V_221_Matriz_n.ipynb\" target=\"_parent\"><img src=\"https://colab.research.google.com/assets/colab-badge.svg\" alt=\"Open In Colab\"/></a>"
      ]
    },
    {
      "cell_type": "markdown",
      "metadata": {
        "id": "skN-Wz61xZzi"
      },
      "source": [
        "### 1. Faça um programa que leia uma matriz 2x3 (2 linhas, 3 colunas). Apresente os elementos da matriz e seus respectivos índices."
      ]
    },
    {
      "cell_type": "code",
      "metadata": {
        "id": "Wbjafj_QxWP-",
        "colab": {
          "base_uri": "https://localhost:8080/"
        },
        "outputId": "7179c02e-17ec-408a-a04d-ff68f4a1c40c"
      },
      "source": [
        "matriz = [] # ................................................... Lendo a matriz\n",
        "for lin in range(2):\n",
        "    linha = []\n",
        "    for col in range(3): \n",
        "        linha.append(int(input('Digite o valor ['+ str(lin) + '][' + str(col) + ']: ')))\n",
        "        #soma = soma + linha[col]\n",
        "    matriz.append(linha)\n",
        "#print da soma dos salários\n",
        "for lin in range(2):  # ...................................Apresentando a matriz\n",
        "    for col in range(3): \n",
        "\t    print(matriz[lin][col], end='\\t')\n",
        "    print()\n"
      ],
      "execution_count": null,
      "outputs": [
        {
          "output_type": "stream",
          "name": "stdout",
          "text": [
            "Digite o valor [0][0]: 2\n",
            "Digite o valor [0][1]: 3\n",
            "Digite o valor [0][2]: 2\n",
            "Digite o valor [1][0]: 3\n",
            "Digite o valor [1][1]: 2\n",
            "Digite o valor [1][2]: 5\n",
            "2\t3\t2\t\n",
            "3\t2\t5\t\n"
          ]
        }
      ]
    },
    {
      "cell_type": "markdown",
      "metadata": {
        "id": "0jPoba3-yLnG"
      },
      "source": [
        "### 2. Faça um programa que carregue uma matriz 2 x 2, que representa o salário de 4 funcionários, calcule e mostre a soma total de todos os elementos que será o montante pago pela empresa a esses funcionários."
      ]
    },
    {
      "cell_type": "code",
      "metadata": {
        "id": "UHD2oMlJyLzc",
        "colab": {
          "base_uri": "https://localhost:8080/"
        },
        "outputId": "55056183-7c74-4e0a-d700-2f7fe9e1074e"
      },
      "source": [
        "salarios = []\n",
        "montante = 0\n",
        "for lin in range(2):\n",
        "  linha = []\n",
        "  for col in range(2):\n",
        "    linha.append(float(input('Digite o salario ['+ str(lin) + '][' + str(col) + ']: ')))\n",
        "  salarios.append(linha)\n",
        "# soma dos salarios \n",
        "for x in range(2):\n",
        "  for y in range(2):\n",
        "    montante = montante + salarios[x][y]\n",
        "print('O montante total dos salarios é: ',montante)"
      ],
      "execution_count": null,
      "outputs": [
        {
          "output_type": "stream",
          "name": "stdout",
          "text": [
            "Digite o salario [0][0]: 10\n",
            "Digite o salario [0][1]: 20\n",
            "Digite o salario [1][0]: 30\n",
            "Digite o salario [1][1]: 40\n",
            "O montante total dos salarios é:  100.0\n"
          ]
        }
      ]
    },
    {
      "cell_type": "markdown",
      "metadata": {
        "id": "HAz_eYfhzg06"
      },
      "source": [
        "### 3. Faça um programa que carregue uma matriz 3 x 2, que representa preços de produtos, crie OUTRA matriz que armazene todos os preços com 7% de aumento."
      ]
    },
    {
      "cell_type": "code",
      "metadata": {
        "id": "Cg-NIjInzfmU"
      },
      "source": [
        "precos = []\n",
        "aumento = []\n",
        "for lin in range(3):\n",
        "  linha = []\n",
        "  for col in range(2):\n",
        "    linha.append(float(input('Digite o preço do Produto ['+ str(lin) + '][' + str(col) + ']: ')))\n",
        "  precos.append(linha)\n",
        "# calculo do aumento dos produtos....\n",
        "for x in range(3):\n",
        "  line = []\n",
        "  for y in range(2):\n",
        "    increase=precos[x][y]+(7/100*precos[x][y])\n",
        "    line.append(increase)\n",
        "  aumento.append(line)\n",
        "print('Salario base: ',precos)\n",
        "print('Aumento é: ',aumento)"
      ],
      "execution_count": null,
      "outputs": []
    },
    {
      "cell_type": "markdown",
      "metadata": {
        "id": "_aPd4c1b3OjS"
      },
      "source": [
        "### 4. Faça um programa para armazenar em uma matriz 5x2 preços. Encontre e apresente os ÍNDICES dos valores menores que 23 reais."
      ]
    },
    {
      "cell_type": "code",
      "metadata": {
        "id": "Q6LPIy_LCQuO",
        "colab": {
          "base_uri": "https://localhost:8080/"
        },
        "outputId": "63ee3866-fb1a-4845-fe3a-a7ef74c5f37f"
      },
      "source": [
        "precos = []\n",
        "for lin in range(5):\n",
        "  linha = []\n",
        "  for col in range(2):\n",
        "    linha.append(int(input('Digite o valor ['+ str(lin) + '][' + str(col) + ']: ')))\n",
        "  precos.append(linha)\n",
        "print('==========================')\n",
        "for x in range(5):\n",
        "  for y in range(2):\n",
        "    if precos[x][y]<23:\n",
        "      print('Indice: | Linha ',x,' |',' - | Coluna ',y,' |')\n"
      ],
      "execution_count": null,
      "outputs": [
        {
          "output_type": "stream",
          "name": "stdout",
          "text": [
            "Digite o valor [0][0]: 23\n",
            "Digite o valor [0][1]: 25\n",
            "Digite o valor [1][0]: 20\n",
            "Digite o valor [1][1]: 50\n",
            "Digite o valor [2][0]: 65\n",
            "Digite o valor [2][1]: 10\n",
            "Digite o valor [3][0]: 5\n",
            "Digite o valor [3][1]: 9\n",
            "Digite o valor [4][0]: 1\n",
            "Digite o valor [4][1]: 13\n",
            "Indice: | Linha  1  |  - | Coluna  0  |\n",
            "Indice: | Linha  2  |  - | Coluna  1  |\n",
            "Indice: | Linha  3  |  - | Coluna  0  |\n",
            "Indice: | Linha  3  |  - | Coluna  1  |\n",
            "Indice: | Linha  4  |  - | Coluna  0  |\n",
            "Indice: | Linha  4  |  - | Coluna  1  |\n"
          ]
        }
      ]
    },
    {
      "cell_type": "markdown",
      "metadata": {
        "id": "JgYwP3n1CQ_U"
      },
      "source": [
        "### 5. Faça um programa que leia números inteiros m e n e os elementos de uma matriz A de números inteiros de dimensão m x n e conte o número de elementos que são iguais a zero.\n"
      ]
    },
    {
      "cell_type": "code",
      "metadata": {
        "id": "fb6TwQ_yh_To",
        "colab": {
          "base_uri": "https://localhost:8080/"
        },
        "outputId": "71f725da-50f1-46aa-bd80-1c5b29703438"
      },
      "source": [
        "m=0; #Line\n",
        "n=0; #Columm\n",
        "A=[] #Matriz A\n",
        "c= 0; #Contador\n",
        "m = int(input('Digite o indice (Linha): '))\n",
        "n = int(input('Digite o indice (Coluna): '))\n",
        "for lin in range(m):\n",
        "  line= []\n",
        "  for col in range(n):\n",
        "    line.append(int(input('Digite o valor ['+ str(lin) + '][' + str(col) + ']: ')))\n",
        "  A.append(line)\n",
        "for x in range(m):\n",
        "  for y in range(n):\n",
        "    if A[x][y]==0:\n",
        "      c=c+1\n",
        "print('Quantidade de elementos == 0 na Matriz (A): ',c)"
      ],
      "execution_count": null,
      "outputs": [
        {
          "output_type": "stream",
          "name": "stdout",
          "text": [
            "Digite o indice (Linha): 2\n",
            "Digite o indice (Coluna): 3\n",
            "Digite o valor [0][0]: 0\n",
            "Digite o valor [0][1]: 0\n",
            "Digite o valor [0][2]: 0\n",
            "Digite o valor [1][0]: 2\n",
            "Digite o valor [1][1]: 5\n",
            "Digite o valor [1][2]: 6\n",
            "Quantidade de elementos == 0 na Matriz (A):  3\n"
          ]
        }
      ]
    },
    {
      "cell_type": "markdown",
      "metadata": {
        "id": "fZNXRUrrh_g9"
      },
      "source": [
        "### 6. Faça um programa que carregue: *um vetor com oito posições com os nomes das lojas; * um outro vetor com quatro posições com os nomes dos produtos; * uma matriz (8 x 4) com os preços de todos os produtos em cada loja. O programa deve mostrar todas as relações (nome da loja - nome do produto e preço), nas quais o preço não ultrapasse R$ 120,00.\n"
      ]
    },
    {
      "cell_type": "code",
      "metadata": {
        "id": "A4-CekXy0vrz",
        "colab": {
          "base_uri": "https://localhost:8080/"
        },
        "outputId": "d48e25c5-1ac2-4570-ebe6-d51e850611dc"
      },
      "source": [
        "#variavel de configuração do script\n",
        "line=2 #8 Lojas\n",
        "columm=2 #4 Produtos\n",
        "lojas = [];   #Lojas 8 - Line\n",
        "produtos = [] #Produtos 4 - Coluna\n",
        "precos_full_lojas = [] #Relação 8x4 Lojas e Produtos\n",
        "#cadastro do nome das lojas\n",
        "for nome_i in range(line):\n",
        "  lojas.append(input('Digite o Nome da '+str(nome_i+1)+'° Loja: '))\n",
        "print('=====================\\n===============Produtos==================\\n')\n",
        "#cadastro do nome dos produtos\n",
        "for produto_i in range(columm):\n",
        "  produtos.append(input('Digite o Nome do '+str(produto_i+1)+'° Produto: '))\n",
        "print('\\n====================== Insira O preço dos produtos para as Lojas =================\\n')\n",
        "#inserindo valores de preços conforme o nome da Loja\n",
        "for lin in range(line):\n",
        "  p_l = []\n",
        "  print('Loja: '+lojas[lin])\n",
        "  for col in range(columm):\n",
        "    p_l.append(float(input('Insira o Valor do '+str(produtos[col])+': ' )))\n",
        "  precos_full_lojas.append(p_l)\n",
        "  print('\\n')\n",
        "#apresentação dos preços\n",
        "print('\\n\\n============== Nome das Lojas - Nome do Produtos - Preços') \n",
        "for x in range(line):\n",
        "  print('Loja: ',lojas[x],)\n",
        "  for y in range(columm):\n",
        "    if precos_full_lojas[x][y]>120:\n",
        "      print(produtos[y]+': ','Ultrapassou o valor de R$ 120,00')\n",
        "    else:\n",
        "      print(produtos[y]+': ','R$',precos_full_lojas[x][y])\n",
        "  print('\\n')"
      ],
      "execution_count": null,
      "outputs": [
        {
          "output_type": "stream",
          "name": "stdout",
          "text": [
            "Digite o Nome da 1° Loja: Cyber\n",
            "Digite o Nome da 2° Loja: Root\n",
            "=====================\n",
            "===============Produtos==================\n",
            "\n",
            "Digite o Nome do 1° Produto: maça\n",
            "Digite o Nome do 2° Produto: pera\n",
            "\n",
            "====================== Insira O preço dos produtos para as Lojas =================\n",
            "\n",
            "Loja: Cyber\n",
            "Insira o Valor do maça: 10\n",
            "Insira o Valor do pera: 250\n",
            "\n",
            "\n",
            "Loja: Root\n",
            "Insira o Valor do maça: 9\n",
            "Insira o Valor do pera: 100\n",
            "\n",
            "\n",
            "\n",
            "\n",
            "============== Nome das Lojas - Nome do Produtos - Preços\n",
            "Loja:  Cyber\n",
            "maça:  R$ 10.0\n",
            "pera:  Ultrapassou o valor de R$ 120,00\n",
            "\n",
            "\n",
            "Loja:  Root\n",
            "maça:  R$ 9.0\n",
            "pera:  R$ 100.0\n",
            "\n",
            "\n"
          ]
        }
      ]
    },
    {
      "cell_type": "code",
      "source": [
        ""
      ],
      "metadata": {
        "id": "cQpSplk5fMvr"
      },
      "execution_count": null,
      "outputs": []
    }
  ]
}